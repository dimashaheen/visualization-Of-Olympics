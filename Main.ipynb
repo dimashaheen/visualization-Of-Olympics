{
 "cells": [
  {
   "cell_type": "code",
   "execution_count": null,
   "metadata": {},
   "outputs": [],
   "source": [
    "# Due to huge number of records,for loop might take 2-3 minutes"
   ]
  },
  {
   "cell_type": "code",
   "execution_count": 2,
   "metadata": {},
   "outputs": [],
   "source": [
    "#                                         Imports\n",
    "import pandas as pd\n",
    "import seaborn as sns\n",
    "import matplotlib.pyplot as plt\n",
    "import numpy as np"
   ]
  },
  {
   "cell_type": "code",
   "execution_count": 3,
   "metadata": {},
   "outputs": [],
   "source": [
    "# For seaborn visualization\n",
    "%matplotlib inline"
   ]
  },
  {
   "cell_type": "code",
   "execution_count": 4,
   "metadata": {},
   "outputs": [],
   "source": [
    "# Assume athelet_events = df\n",
    "df=pd.read_csv(r'C:\\Users\\hp\\Desktop\\athlete_events.csv')"
   ]
  },
  {
   "cell_type": "code",
   "execution_count": 25,
   "metadata": {},
   "outputs": [],
   "source": [
    "#Heatmap showing off the missing values in each column\n",
    "# plt.figure(figsize=(10,20))\n",
    "sns.heatmap(df.isnull(),yticklabels=False,cbar=False,cmap='viridis')"
   ]
  },
  {
   "cell_type": "code",
   "execution_count": 26,
   "metadata": {},
   "outputs": [],
   "source": [
    "df.head(2)"
   ]
  },
  {
   "cell_type": "code",
   "execution_count": 17,
   "metadata": {},
   "outputs": [],
   "source": [
    "#Converting Medal Column to a appropriate value\n",
    "df['Medal'].fillna('No Medal',inplace=True)"
   ]
  },
  {
   "cell_type": "code",
   "execution_count": null,
   "metadata": {},
   "outputs": [],
   "source": [
    "# Correlation between Age and Event Columns\n",
    "plt.figure(figsize=(100,50))\n",
    "sns.jointplot(x='Event',y='Age',data=df)"
   ]
  },
  {
   "cell_type": "code",
   "execution_count": null,
   "metadata": {},
   "outputs": [],
   "source": [
    "# Showing skeweness of distribution\n",
    "sns.distplot(df['Age'])"
   ]
  },
  {
   "cell_type": "code",
   "execution_count": 20,
   "metadata": {},
   "outputs": [
    {
     "name": "stderr",
     "output_type": "stream",
     "text": [
      "C:\\Users\\hp\\anaconda3\\lib\\site-packages\\pandas\\core\\indexing.py:670: SettingWithCopyWarning: \n",
      "A value is trying to be set on a copy of a slice from a DataFrame\n",
      "\n",
      "See the caveats in the documentation: https://pandas.pydata.org/pandas-docs/stable/user_guide/indexing.html#returning-a-view-versus-a-copy\n",
      "  iloc._setitem_with_indexer(indexer, value)\n"
     ]
    }
   ],
   "source": [
    "# Filling missing values in Age column using \"Multivariate Imputation(Age)\"\n",
    "gb=round(df.groupby(['Event']).mean()['Age'])\n",
    "for i in range(len(df['Age'])):\n",
    "    if df['Age'].isnull().iloc[i]:\n",
    "        event_loc=df['Event'].iloc[i]\n",
    "        check_Null=gb[event_loc]\n",
    "        if check_Null!=check_Null:\n",
    "#             Since distribution is skewed\n",
    "            df['Age'].iloc[i]=round(df['Age'].median()) \n",
    "        else:\n",
    "            df['Age'].iloc[i]=gb[event_loc]"
   ]
  },
  {
   "cell_type": "code",
   "execution_count": 7,
   "metadata": {},
   "outputs": [],
   "source": [
    "# Correlation between Age and Weight Columns\n",
    "plt.figure(figsize=(100,50))\n",
    "sns.jointplot(x='Weight',y='Age',data=df)"
   ]
  },
  {
   "cell_type": "code",
   "execution_count": 10,
   "metadata": {},
   "outputs": [],
   "source": [
    "# Correlation between Weight and Event Columns\n",
    "plt.figure(figsize=(100,50))\n",
    "sns.jointplot(x='Event',y='Weight',data=df)"
   ]
  },
  {
   "cell_type": "code",
   "execution_count": 22,
   "metadata": {},
   "outputs": [],
   "source": [
    "# Filling missing values in Weight column using \"Multivariate Imputation(Event,Age)\"\n",
    "gb=df.groupby(['Event','Age']).mean()['Weight']\n",
    "for i in range(len(df['Weight'])):\n",
    "    if df['Weight'].isnull().iloc[i]:\n",
    "        event_loc=df['Event'].iloc[i]\n",
    "        age_loc=df['Age'].iloc[i]\n",
    "        check_Null=gb[event_loc][age_loc]\n",
    "        if check_Null!=check_Null:\n",
    "            df['Weight'].iloc[i]=df['Weight'].mean()\n",
    "        else:    \n",
    "            df['Weight'].iloc[i]=gb[event_loc][age_loc]"
   ]
  },
  {
   "cell_type": "code",
   "execution_count": 27,
   "metadata": {},
   "outputs": [],
   "source": [
    "# Correlation between Weight and Height Columns\n",
    "plt.figure(figsize=(100,50))\n",
    "sns.jointplot(x='Height',y='Weight',data=df)"
   ]
  },
  {
   "cell_type": "code",
   "execution_count": 28,
   "metadata": {},
   "outputs": [],
   "source": [
    "# Correlation between Age and Height Columns\n",
    "plt.figure(figsize=(100,50))\n",
    "sns.jointplot(x='Height',y='Age',data=df)"
   ]
  },
  {
   "cell_type": "code",
   "execution_count": 23,
   "metadata": {},
   "outputs": [],
   "source": [
    "# Filling missing values in Height column using \"Multivariate Imputation(Weight,Age)\"\n",
    "gb=df.groupby(['Weight','Age']).mean()['Height']\n",
    "for i in range(len(df['Height'])):\n",
    "    if df['Height'].isnull().iloc[i]:\n",
    "        weight_Loc=df['Weight'].iloc[i]\n",
    "        age_Loc=df['Age'].iloc[i]\n",
    "        check_Null=gb[weight_Loc][age_Loc]\n",
    "        if check_Null!=check_Null:\n",
    "            df['Height'].iloc[i]=df['Height'].mean()\n",
    "        else:    \n",
    "            df['Height'].iloc[i]=gb[weight_Loc][age_Loc]"
   ]
  },
  {
   "cell_type": "code",
   "execution_count": 29,
   "metadata": {},
   "outputs": [],
   "source": [
    "#Heatmap showing off the missing values in each column\n",
    "# plt.figure(figsize=(10,20))\n",
    "sns.heatmap(df.isnull(),yticklabels=False,cbar=False,cmap='viridis')"
   ]
  },
  {
   "cell_type": "code",
   "execution_count": null,
   "metadata": {},
   "outputs": [],
   "source": []
  }
 ],
 "metadata": {
  "kernelspec": {
   "display_name": "Python 3",
   "language": "python",
   "name": "python3"
  },
  "language_info": {
   "codemirror_mode": {
    "name": "ipython",
    "version": 3
   },
   "file_extension": ".py",
   "mimetype": "text/x-python",
   "name": "python",
   "nbconvert_exporter": "python",
   "pygments_lexer": "ipython3",
   "version": "3.8.5"
  }
 },
 "nbformat": 4,
 "nbformat_minor": 4
}
